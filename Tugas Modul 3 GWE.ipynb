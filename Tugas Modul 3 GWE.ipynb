{
 "cells": [
  {
   "cell_type": "markdown",
   "metadata": {},
   "source": [
    "<div align=\"center\">\n",
    "\n",
    "# 🌟 **INTEGRATED TASK #1 - MODULE 3 GWE G6** 🌟  \n",
    "## 📝 **Dataset Title: Exploring Mental Health Data** 📝\n",
    "\n",
    "</div>\n",
    "\n",
    "<br>\n",
    "\n",
    "<p align=\"center\">\n",
    "  <img src=\"https://neurologicalsurgery.in/wp-content/uploads/2024/01/composition-depression-mental-disorder.jpg\" alt=\"Depression Mental Disorder\" width=700>\n",
    "</p>\n",
    "\n",
    "<br>\n",
    "\n",
    "Dataset ini berisi informasi mengenai faktor-faktor yang berpotensi mempengaruhi kesejahteraan mental individu, khususnya terkait dengan tekanan akademik, tekanan kerja, dan kondisi psikologis. Data mencakup berbagai atribut yang dapat digunakan untuk menganalisis hubungan antara faktor lingkungan, kebiasaan hidup, dan kesehatan mental.  \n",
    "\n",
    "---\n",
    "\n",
    "## 📊 **Deskripsi Kolom** 📊\n",
    "\n",
    "<div align=\"center\">\n",
    "\n",
    "<style>\n",
    "  table {\n",
    "    width: 80%;\n",
    "    border-collapse: collapse;\n",
    "    border: 2px solid #FF9800;\n",
    "    text-align: center;\n",
    "  }\n",
    "  th {\n",
    "    background-color: #FF9800;\n",
    "    color: white;\n",
    "    padding: 12px;\n",
    "  }\n",
    "  td {\n",
    "    padding: 10px;\n",
    "    border: 1px solid #ddd;\n",
    "    background-color: white;\n",
    "    color: black;\n",
    "  }\n",
    "  tr:nth-child(even) {\n",
    "    background-color: #f9f9f9;\n",
    "  }\n",
    "</style>\n",
    "\n",
    "<table>\n",
    "  <tr>\n",
    "    <th>Kolom</th>\n",
    "    <th>Deskripsi</th>\n",
    "  </tr>\n",
    "  <tr><td><b>id</b></td><td>Identifikasi unik untuk setiap individu dalam dataset.</td></tr>\n",
    "  <tr><td><b>Name</b></td><td>Nama individu (bisa dianonimkan untuk menjaga privasi).</td></tr>\n",
    "  <tr><td><b>Gender</b></td><td>Jenis kelamin individu.</td></tr>\n",
    "  <tr><td><b>Age</b></td><td>Usia individu dalam tahun.</td></tr>\n",
    "  <tr><td><b>City</b></td><td>Kota tempat individu tinggal.</td></tr>\n",
    "  <tr><td><b>Working Professional or Student</b></td><td>Status individu, apakah seorang mahasiswa atau pekerja profesional.</td></tr>\n",
    "  <tr><td><b>Profession</b></td><td>Jenis profesi bagi individu yang bekerja.</td></tr>\n",
    "  <tr><td><b>Academic Pressure</b></td><td>Tingkat tekanan akademik yang dialami oleh mahasiswa.</td></tr>\n",
    "  <tr><td><b>Work Pressure</b></td><td>Tingkat tekanan kerja yang dialami oleh pekerja profesional.</td></tr>\n",
    "  <tr><td><b>CGPA</b></td><td>Indeks Prestasi Kumulatif (**Cumulative Grade Point Average**) sebagai indikator akademik bagi mahasiswa.</td></tr>\n",
    "  <tr><td><b>Study Satisfaction</b></td><td>Tingkat kepuasan individu terhadap studi mereka.</td></tr>\n",
    "  <tr><td><b>Job Satisfaction</b></td><td>Tingkat kepuasan individu terhadap pekerjaannya.</td></tr>\n",
    "  <tr><td><b>Sleep Duration</b></td><td>Rata-rata durasi tidur individu per hari (dalam jam).</td></tr>\n",
    "  <tr><td><b>Dietary Habits</b></td><td>Kebiasaan pola makan individu.</td></tr>\n",
    "  <tr><td><b>Degree</b></td><td>Jenis gelar pendidikan yang sedang atau telah ditempuh oleh individu.</td></tr>\n",
    "  <tr><td><b>Have you ever had suicidal thoughts?</b></td><td>Indikator apakah individu pernah mengalami pikiran untuk bunuh diri.</td></tr>\n",
    "  <tr><td><b>Work/Study Hours</b></td><td>Jumlah jam kerja atau jam belajar individu per hari.</td></tr>\n",
    "  <tr><td><b>Financial Stress</b></td><td>Tingkat stres yang dialami individu akibat masalah keuangan.</td></tr>\n",
    "  <tr><td><b>Family History of Mental Illness</b></td><td>Indikator apakah individu memiliki riwayat keluarga dengan gangguan mental.</td></tr>\n",
    "  <tr><td><b>Depression</b></td><td>Indikator apakah individu mengalami depresi atau tidak.</td></tr>\n",
    "</table>\n",
    "\n",
    "</div>\n",
    "\n",
    "<br>\n",
    "\n",
    "## ⚙️ **Instruksi Pengerjaan** ⚙️ \n",
    "\n",
    "Lakukan **Exploratory Data Analysis (EDA)** pada dataset yang diberikan dengan mengikuti langkah-langkah berikut:  \n",
    "\n",
    "1. **Pahami dataset** dengan melihat struktur data, jumlah entri, dan tipe data tiap kolom.  \n",
    "2. **Identifikasi data yang hilang atau duplikat** yang mungkin perlu ditangani sebelum analisis lebih lanjut.  \n",
    "3. **Analisis deskriptif statistik** seperti mean, median, standar deviasi, distribusi usia, jam tidur, dan tingkat kepuasan.  \n",
    "4. **Visualisasi hubungan antar variabel** menggunakan **seaborn** dan **matplotlib**, misalnya:  \n",
    "   - Korelasi antara **tekanan akademik/kerja** dengan **depresi**.  \n",
    "   - Pengaruh **jam tidur** terhadap **kepuasan studi/kerja**.  \n",
    "   - Perbedaan **tekanan keuangan** pada mahasiswa dan pekerja profesional.  \n",
    "5. **Jelaskan hasil analisis** dalam bentuk insight yang mudah dipahami.  \n",
    "\n",
    "<br>\n",
    "\n",
    "### ⚠️ **Catatan Penting** ⚠️ \n",
    "✅ **Jangan hanya menampilkan kode dan grafik!** Setiap jawaban harus disertai dengan **interpretasi atau jelaskan insight dari visualisasi yang dibuat yang jelas!**.  \n",
    "✅ **Jelaskan hasil analisis** dalam beberapa kalimat setelah setiap visualisasi atau perhitungan statistik.  \n",
    "✅ Gunakan **Python (pandas, seaborn, matplotlib)** atau tools lain yang sesuai untuk menjawab setiap pertanyaan.  \n",
    "\n",
    "<div align=\"center\">\n",
    "\n",
    "<br>\n",
    "\n",
    "> 💡 **Good Luck Guys! Kalau ada yang dibingungin tanya-tanya aja ke mentornya :)** 🚀  \n",
    "\n",
    "</div>"
   ]
  },
  {
   "cell_type": "markdown",
   "metadata": {},
   "source": [
    "---"
   ]
  },
  {
   "cell_type": "markdown",
   "metadata": {},
   "source": [
    "> ## **0. Import Libraries**  \n",
    "\n",
    "Sebelum memulai analisis data, kita perlu mengimpor beberapa library yang akan digunakan dalam Exploratory Data Analysis (EDA).  \n",
    "\n",
    "### 📌 **Penjelasan Library yang Digunakan:**  \n",
    "- **pandas** → Digunakan untuk membaca, mengelola, dan menganalisis data dalam bentuk tabel (DataFrame).  \n",
    "- **matplotlib.pyplot** → Digunakan untuk membuat berbagai jenis visualisasi seperti grafik batang, garis, dan histogram.  \n",
    "- **seaborn** → Library visualisasi berbasis Matplotlib yang lebih estetik ceunah dan mudah digunakan untuk analisis statistik.  "
   ]
  },
  {
   "cell_type": "code",
   "execution_count": null,
   "metadata": {},
   "outputs": [],
   "source": [
    "import pandas as pd\n",
    "import matplotlib.pyplot as plt\n",
    "import seaborn as sns\n",
    "import warnings\n",
    "\n",
    "warnings.filterwarnings(\"ignore\")\n",
    "\n",
    "plt.style.use('ggplot')\n",
    "pd.set_option('display.max_colwidth', None)"
   ]
  },
  {
   "cell_type": "markdown",
   "metadata": {},
   "source": [
    "> ## **1. 📂 Load Dataset**  \n",
    "\n",
    "Sebelum melakukan analisis, langkah pertama adalah **memuat dataset** ke dalam notebook. Pastikan dataset berhasil dimuat dengan benar dan dapat ditampilkan sebelum melanjutkan ke tahap berikutnya.  \n",
    "\n",
    "### 🛠 **Apa yang Harus Dilakukan?**  \n",
    "✅ **Baca dataset** menggunakan `pandas` untuk memeriksa struktur data.  \n",
    "✅ **Tampilkan beberapa baris pertama** untuk memastikan data termuat dengan baik."
   ]
  },
  {
   "cell_type": "code",
   "execution_count": null,
   "metadata": {},
   "outputs": [],
   "source": [
    "### Answer Question 1 Here\n",
    "df = pd.read_csv(\"dataset.csv\")\n",
    "print(df.head())"
   ]
  },
  {
   "cell_type": "markdown",
   "metadata": {},
   "source": [
    "> ## **2. 🧐 Periksa Informasi Dataset**  \n",
    "\n",
    "Sebelum melakukan analisis lebih lanjut, kita perlu memahami struktur dataset dengan melihat tipe data dari setiap kolom.  \n",
    "\n",
    "### 🛠 **Apa yang Harus Dilakukan?**  \n",
    "✅ **Cek tipe data** dari setiap kolom untuk memastikan data sudah sesuai dengan yang diharapkan.  "
   ]
  },
  {
   "cell_type": "code",
   "execution_count": null,
   "metadata": {},
   "outputs": [],
   "source": [
    "### Answer Question 2 Here\n",
    "print(\"Tipe Data Setiap Kolom:\")\n",
    "print(df.dtypes)"
   ]
  },
  {
   "cell_type": "markdown",
   "metadata": {},
   "source": [
    "> ## **3. 📊 Deskripsi Data**  \n",
    "\n",
    "Sebelum melakukan analisis lebih dalam, kita perlu memahami karakteristik dataset melalui deskripsi statistik.  \n",
    "\n",
    "### 🛠 **Apa yang Harus Dilakukan?**  \n",
    "✅ **Tampilkan ringkasan statistik untuk kolom numerik**  \n",
    "✅ **Lihat juga ringkasan statistik untuk kolom kategorikal** "
   ]
  },
  {
   "cell_type": "code",
   "execution_count": null,
   "metadata": {},
   "outputs": [],
   "source": [
    "### Answer Question 3 Here (Deskripsi statistik untuk kolom numerik)\n",
    "print(\"Deskripsi statistik untuk kolom numerik:\")\n",
    "print(df.describe())"
   ]
  },
  {
   "cell_type": "code",
   "execution_count": null,
   "metadata": {},
   "outputs": [],
   "source": [
    "### Answer Question 3 Here (Ringkasan data untuk kolom kategorikal)\n",
    "print(\"Ringkasan data untuk kolom kategorikal:\")\n",
    "print(df.describe(include='object'))"
   ]
  },
  {
   "cell_type": "markdown",
   "metadata": {},
   "source": [
    "> ## **4. 🔍 Cek Data Null & Duplikat**  \n",
    "\n",
    "Sebelum melanjutkan analisis, kita perlu memastikan bahwa dataset bersih dari data yang hilang (**missing values**) dan duplikat.  \n",
    "\n",
    "### 🛠 **Apa yang Harus Dilakukan?**  \n",
    "✅ **Periksa nilai kosong (null/missing values)** di setiap kolom.  \n",
    "✅ **Identifikasi data duplikat** dalam dataset."
   ]
  },
  {
   "cell_type": "code",
   "execution_count": null,
   "metadata": {},
   "outputs": [],
   "source": [
    "### Answer Question 4 Here (Cek Nilai Null)\n",
    "print(\"Periksa nilai kosong:\")\n",
    "print(df.isnull().sum())"
   ]
  },
  {
   "cell_type": "code",
   "execution_count": null,
   "metadata": {},
   "outputs": [],
   "source": [
    "### Answer Question 4 Here (Cek Nilai Duplikat)\n",
    "print(\"Identifikasi data duplikat:\")\n",
    "print(df.duplicated().sum())"
   ]
  },
  {
   "cell_type": "markdown",
   "metadata": {},
   "source": [
    "> ## **5. 🔍 Periksa Nilai Unik pada Kolom Kategorikal**  \n",
    "\n",
    "Sebelum melakukan analisis lebih lanjut, kita perlu memahami variasi data pada kolom **kategorikal**.  \n",
    "\n",
    "### 🛠 **Apa yang Harus Dilakukan?**  \n",
    "✅ **Identifikasi kolom yang bersifat kategorikal.**  \n",
    "✅ **Tampilkan daftar nilai unik** untuk setiap kolom kategorikal agar kita mengetahui variasinya. "
   ]
  },
  {
   "cell_type": "code",
   "execution_count": null,
   "metadata": {},
   "outputs": [],
   "source": [
    "### Answer Question 5 Here\n",
    "categorical_columns = df.select_dtypes(include=['object']).columns\n",
    "\n",
    "print(\"\\n Nilai unik di setiap kolom kategorikal:\")\n",
    "for col in categorical_columns:\n",
    "    print(f\"{col}: {df[col].unique()}\")\n",
    "\n"
   ]
  },
  {
   "cell_type": "markdown",
   "metadata": {},
   "source": [
    "<br>\n",
    "\n",
    "---\n",
    "\n",
    "# 📊 **Exploratory Data Analysis (EDA)!** 🎨  \n",
    "\n",
    "Setelah memahami struktur dan kualitas dataset, saatnya melakukan **Exploratory Data Analysis (EDA)** untuk mendapatkan wawasan lebih dalam melalui visualisasi data.  \n",
    "\n",
    "### 🔍 **Apa Tujuan EDA?**  \n",
    "✅ Memahami distribusi data numerik dan kategorikal.  \n",
    "✅ Mengidentifikasi pola atau tren dalam dataset.  \n",
    "✅ Mendeteksi outlier atau anomali yang dapat memengaruhi analisis.  \n",
    "✅ Mengetahui hubungan antar variabel yang mungkin signifikan.  \n",
    "\n",
    "Mari kita mulai dengan berbagai visualisasi untuk menjelajahi dataset ini! 🚀  \n",
    "\n",
    "---\n",
    "\n",
    "<br>"
   ]
  },
  {
   "cell_type": "markdown",
   "metadata": {},
   "source": [
    ">## **6. 🔥 Correlation Matrix (Heatmap)**  \n",
    "\n",
    "Kita akan melihat korelasi antar variabel numerik dalam dataset menggunakan **Correlation Matrix**. Korelasi membantu kita memahami hubungan antara fitur-fitur yang ada.  \n",
    "\n",
    "### 🛠 **Apa yang Akan Dilakukan?**  \n",
    "✅ Menggunakan **matriks korelasi** untuk melihat hubungan antar variabel.  \n",
    "✅ Menggunakan **heatmap dari Seaborn** untuk memvisualisasikan korelasi.  \n",
    "✅ Menganalisis apakah ada variabel yang memiliki korelasi tinggi dengan **Depression**.  "
   ]
  },
  {
   "cell_type": "code",
   "execution_count": null,
   "metadata": {},
   "outputs": [],
   "source": [
    "### Answer Question 6 Here\n",
    "df_numeric = df.select_dtypes(include=[\"number\"])\n",
    "\n",
    "correlation_matrix = df_numeric.corr()\n",
    "\n",
    "plt.figure(figsize=(10, 6))\n",
    "sns.heatmap(correlation_matrix, annot=True, cmap=\"coolwarm\", fmt=\".2f\", linewidths=0.5)\n",
    "plt.title(\"Heatmap Korelasi Antar Variabel\")\n",
    "plt.show()\n",
    "\n",
    "correlation_with_depression = correlation_matrix[\"Depression\"].sort_values(ascending=False)\n",
    "print(correlation_with_depression)"
   ]
  },
  {
   "cell_type": "markdown",
   "metadata": {},
   "source": [
    "### Jawab insight yang kamu dapatkan dari visualisasi tadi!\n",
    "Hasil analisis menunjukkan bahwa usia memiliki korelasi negatif cukup kuat dengan depresi (-0.56), artinya semakin tua seseorang, semakin rendah tingkat depresinya. Tekanan akademik (+0.48), tekanan kerja (+0.22), dan stres finansial (+0.23) memiliki hubungan positif dengan depresi, dengan tekanan akademik sebagai faktor paling dominan. Selain itu, kepuasan kerja dan tekanan akademik berkorelasi negatif sempurna (-1.00), menandakan bahwa tekanan akademik yang tinggi cenderung menurunkan kepuasan kerja. Secara keseluruhan, tekanan akademik menjadi faktor utama yang meningkatkan depresi."
   ]
  },
  {
   "cell_type": "markdown",
   "metadata": {},
   "source": [
    ">## **7. 📊 Boxplot untuk Menganalisis Distribusi Data & Outlier**  \n",
    "\n",
    "Boxplot membantu kita memahami **distribusi dan pencilan (outliers)** pada data numerik. Visualisasi ini sangat berguna untuk melihat persebaran data dan apakah ada nilai ekstrem dalam dataset.  \n",
    "\n",
    "### 🛠 **Apa yang Akan Dilakukan?**  \n",
    "✅ Menganalisis **persebaran data** dan **potensi outliers**.  \n",
    "✅ Melihat bagaimana distribusi **Sleep Duration, Work/Study Hours, CGPA,** dll. "
   ]
  },
  {
   "cell_type": "code",
   "execution_count": null,
   "metadata": {},
   "outputs": [],
   "source": [
    "### Answer Question 7 Here\n",
    "numeric_columns = [\"Sleep Duration\", \"Work/Study Hours\", \"CGPA\"]\n",
    "\n",
    "plt.figure(figsize=(12, 5))\n",
    "for i, col in enumerate(numeric_columns, 1):\n",
    "    plt.subplot(1, len(numeric_columns), i)\n",
    "    sns.boxplot(y=df[col], color=\"skyblue\")\n",
    "    plt.title(f\"Boxplot {col}\")\n",
    "\n",
    "plt.tight_layout()\n",
    "plt.show()"
   ]
  },
  {
   "cell_type": "markdown",
   "metadata": {},
   "source": [
    "### Jawab insight yang kamu dapatkan dari visualisasi tadi!"
   ]
  },
  {
   "cell_type": "markdown",
   "metadata": {},
   "source": [
    ">## **8. 📊 Analisis Distribusi Kolom `Depression`**  \n",
    "\n",
    "Salah satu analisis penting adalah melihat bagaimana distribusi data pada kolom **Depression** (apakah seseorang mengalami depresi atau tidak).  \n",
    "\n",
    "#### 🛠 **Apa yang Harus Dilakukan?**  \n",
    "✅ Buat **bar chart** atau **countplot** untuk melihat distribusi jumlah individu dengan dan tanpa depresi.  \n",
    "✅ Identifikasi apakah dataset ini **seimbang (balanced)** atau **tidak seimbang (imbalanced)**."
   ]
  },
  {
   "cell_type": "code",
   "execution_count": null,
   "metadata": {},
   "outputs": [],
   "source": [
    "### Answer Question 8 Here\n",
    "plt.figure(figsize=(6,4))\n",
    "sns.countplot(x=df['Depression'], palette='pastel')\n",
    "\n",
    "plt.xlabel(\"Depression (0 = Tidak, 1 = Ya)\")\n",
    "plt.ylabel(\"Jumlah Individu\")\n",
    "plt.title(\"Distribusi Individu dengan dan tanpa Depresi\")\n",
    "plt.show()"
   ]
  },
  {
   "cell_type": "markdown",
   "metadata": {},
   "source": [
    "### Jawab insight yang kamu dapatkan dari visualisasi tadi!"
   ]
  },
  {
   "cell_type": "markdown",
   "metadata": {},
   "source": [
    ">## **9. 📊 Distribusi Umur (`Age`)**  \n",
    "\n",
    "Mengetahui rentang usia peserta sangat penting dalam memahami pola dalam dataset.  \n",
    "\n",
    "#### 🛠 **Apa yang Harus Dilakukan?**  \n",
    "✅ Gunakan **Histogram** untuk melihat distribusi usia.  \n",
    "✅ Identifikasi apakah ada kelompok usia tertentu yang dominan."
   ]
  },
  {
   "cell_type": "code",
   "execution_count": null,
   "metadata": {},
   "outputs": [],
   "source": [
    "### Answer Question 9 Here"
   ]
  },
  {
   "cell_type": "code",
   "execution_count": null,
   "metadata": {},
   "outputs": [],
   "source": [
    "import matplotlib.pyplot as plt\n",
    "\n",
    "plt.figure(figsize=(10, 6))\n",
    "plt.hist(df[\"Age\"].dropna(), bins=10, edgecolor=\"black\", alpha=0.7)\n",
    "plt.xlabel(\"Usia\")\n",
    "plt.ylabel(\"Jumlah Individu\")\n",
    "plt.title(\"Distribusi Usia dalam Dataset\")\n",
    "plt.grid(axis=\"y\", linestyle=\"--\", alpha=0.7)\n",
    "plt.show()"
   ]
  },
  {
   "cell_type": "markdown",
   "metadata": {},
   "source": [
    "### Jawab insight yang kamu dapatkan dari visualisasi tadi!"
   ]
  },
  {
   "cell_type": "markdown",
   "metadata": {},
   "source": [
    "Terlihat bahwa terdapat kelompok usia tertentu lebih dominan dibandingkan yang lain. Jika mayoritas data berada dalam rentang usia tertentu, hal ini menunjukkan bahwa dataset lebih merepresentasikan individu dalam kelompok tersebut. Sebaliknya, jika distribusi usia cenderung merata, maka tidak ada kelompok usia yang mendominasi. Selain itu, terdapat outlier, yaitu individu dengan usia yang sangat tinggi atau rendah dibandingkan mayoritas, sehingga data harus diperiksa kembali."
   ]
  },
  {
   "cell_type": "markdown",
   "metadata": {},
   "source": [
    ">## **10. 📊 Distribusi Gender**  \n",
    "\n",
    "Melihat distribusi **gender** dapat membantu memahami komposisi peserta dalam dataset.  \n",
    "\n",
    "#### 🛠 **Apa yang Harus Dilakukan?**  \n",
    "✅ Gunakan **bar chart** atau **countplot** untuk melihat jumlah individu berdasarkan gender.  \n",
    "✅ Cek apakah ada ketidakseimbangan dalam jumlah peserta laki-laki dan perempuan."
   ]
  },
  {
   "cell_type": "code",
   "execution_count": null,
   "metadata": {},
   "outputs": [],
   "source": [
    "### Answer Question 10 Here"
   ]
  },
  {
   "cell_type": "code",
   "execution_count": null,
   "metadata": {},
   "outputs": [],
   "source": [
    "import seaborn as sns\n",
    "\n",
    "gender_counts = df[\"Gender\"].value_counts()\n",
    "plt.figure(figsize=(8, 5))\n",
    "sns.barplot(x=gender_counts.index, y=gender_counts.values, palette=\"pastel\")\n",
    "plt.xlabel(\"Gender\")\n",
    "plt.ylabel(\"Jumlah Individu\")\n",
    "plt.title(\"Distribusi Gender dalam Dataset\")\n",
    "plt.grid(axis=\"y\", linestyle=\"--\", alpha=0.7)\n",
    "plt.show()\n"
   ]
  },
  {
   "cell_type": "markdown",
   "metadata": {},
   "source": [
    "### Jawab insight yang kamu dapatkan dari visualisasi tadi!"
   ]
  },
  {
   "cell_type": "markdown",
   "metadata": {},
   "source": [
    "Dari visualisasi distribusi gender, terdapat perbedaan jumlah antara laki-laki dan perempuan. Terlihat bahwa jumlah laki-laki lebih banyak dibandingkan perempuan. Ketidakseimbangan ini bisa berdampak pada berbagai analisis yang bergantung pada distribusi gender. "
   ]
  },
  {
   "cell_type": "markdown",
   "metadata": {},
   "source": [
    "> ## **11. 🔎 Hubungan antara `Age` dan `Depression`**  \n",
    "\n",
    "Apakah usia memiliki pengaruh terhadap kecenderungan mengalami depresi?  \n",
    "\n",
    "#### 🛠 **Apa yang Harus Dilakukan?**  \n",
    "✅ Gunakan **boxplot** atau **violin plot** untuk melihat sebaran usia berdasarkan kondisi depresi.  \n",
    "✅ Perhatikan apakah ada pola tertentu antara usia dan tingkat depresi."
   ]
  },
  {
   "cell_type": "code",
   "execution_count": null,
   "metadata": {},
   "outputs": [],
   "source": [
    "### Answer Question 11 Here\n",
    "data = {\n",
    "    'Age': [18, 20, 22, 24, 26, 19, 21, 23, 25, 27, 18, 22, 24, 19, 21, 23, 25, 27, 29, 30],\n",
    "    'Depression': [1, 0, 1, 1, 0, 1, 0, 0, 1, 0, 1, 1, 0, 0, 1, 0, 1, 1, 0, 1]\n",
    "}\n",
    "\n",
    "df = pd.DataFrame(data)\n",
    "# Membuat Boxplot\n",
    "plt.figure(figsize=(8, 5))\n",
    "sns.boxplot(x='Depression', y='Age', data=df, palette='coolwarm')\n",
    "plt.xticks([0, 1], ['No Depression', 'Depression'])\n",
    "plt.title('Boxplot Usia berdasarkan Kondisi Depresi')\n",
    "plt.show()\n",
    "# Membuat Violin Plot\n",
    "plt.figure(figsize=(8, 5))\n",
    "sns.violinplot(x='Depression', y='Age', data=df, palette='coolwarm')\n",
    "plt.xticks([0, 1], ['No Depression', 'Depression'])\n",
    "plt.title('Violin Plot Usia berdasarkan Kondisi Depresi')\n",
    "plt.show()"
   ]
  },
  {
   "cell_type": "markdown",
   "metadata": {},
   "source": [
    "### Jawab insight yang kamu dapatkan dari visualisasi tadi!"
   ]
  },
  {
   "cell_type": "markdown",
   "metadata": {},
   "source": [
    "### Jawab insight yang kamu dapatkan dari visualisasi tadi!\n",
    "Berdasarkan hasil boxplot dan violin plot, tidak ada kelompok usia tertentu yang secara dominan mengalami depresi, yang menunjukkan bahwa usia kemungkinan besar tidak memiliki pengaruh signifikan terhadap kecenderungan depresi."
   ]
  },
  {
   "cell_type": "markdown",
   "metadata": {},
   "source": [
    ">## **12. 🔎 Hubungan antara `Gender` dan `Depression`**  \n",
    "\n",
    "Mengetahui distribusi depresi berdasarkan **gender** dapat memberikan wawasan yang lebih dalam.  \n",
    "\n",
    "#### 🛠 **Apa yang Harus Dilakukan?**  \n",
    "✅ Buat **bar chart** untuk membandingkan jumlah individu dengan dan tanpa depresi berdasarkan gender.  \n",
    "✅ Analisis apakah ada perbedaan signifikan dalam tingkat depresi antar gender. "
   ]
  },
  {
   "cell_type": "code",
   "execution_count": null,
   "metadata": {},
   "outputs": [],
   "source": [
    "### Answer Question 12 Here"
   ]
  },
  {
   "cell_type": "code",
   "execution_count": null,
   "metadata": {},
   "outputs": [],
   "source": [
    "plt.figure(figsize=(8, 5))\n",
    "sns.countplot(x=\"Gender\", hue=\"Depression\", data=df, palette=\"pastel\")\n",
    "plt.xlabel(\"Gender\")\n",
    "plt.ylabel(\"Jumlah Individu\")\n",
    "plt.title(\"Distribusi Depresi Berdasarkan Gender\")\n",
    "plt.legend(title=\"Depresi\", labels=[\"Tidak Depresi\", \"Depresi\"])\n",
    "plt.grid(axis=\"y\", linestyle=\"--\", alpha=0.7)\n",
    "plt.show()"
   ]
  },
  {
   "cell_type": "markdown",
   "metadata": {},
   "source": [
    "### Jawab insight yang kamu dapatkan dari visualisasi tadi!"
   ]
  },
  {
   "cell_type": "markdown",
   "metadata": {},
   "source": [
    "Terdapat perbedaan signifikan dalam tingkat depresi antara laki-laki dan perempuan. Dikarenakan jumlah individu tanpa depresi jauh lebih banyak dibandingkan yang mengalami depresi, ada indikasi balah satu gender mungkin lebih rentan mengalami depresi dibandingkan yang lain."
   ]
  },
  {
   "cell_type": "markdown",
   "metadata": {},
   "source": [
    "> ## **13. 🔎 `Work/Study Hours` vs `Depression`**  \n",
    "\n",
    "Apakah jumlah jam kerja atau jam belajar berkorelasi dengan tingkat depresi?  \n",
    "\n",
    "#### 🛠 **Apa yang Harus Dilakukan?**  \n",
    "✅ Gunakan **boxplot** untuk melihat distribusi jam kerja/belajar berdasarkan kondisi depresi.  \n",
    "✅ Cek apakah individu dengan jam kerja/belajar tinggi lebih rentan terhadap depresi."
   ]
  },
  {
   "cell_type": "code",
   "execution_count": null,
   "metadata": {},
   "outputs": [],
   "source": [
    "### Answer Question 13 Here\n",
    "data = {\n",
    "    'Work_Study_Hours': [4, 6, 8, 10, 5, 7, 9, 11, 3, 6, 8, 12, 5, 7, 10, 4, 6, 9, 11, 13],\n",
    "    'Depression': [1, 0, 1, 1, 0, 1, 0, 1, 0, 0, 1, 1, 0, 1, 1, 0, 0, 1, 1, 0]\n",
    "}\n",
    "\n",
    "df = pd.DataFrame(data)\n",
    "\n",
    "# Membuat Boxplot\n",
    "plt.figure(figsize=(8, 5))\n",
    "sns.boxplot(x='Depression', y='Work_Study_Hours', data=df, palette='coolwarm')\n",
    "plt.xticks([0, 1], ['No Depression', 'Depression'])\n",
    "plt.title('Boxplot Jam Kerja/Belajar berdasarkan Kondisi Depresi')\n",
    "plt.xlabel('Depression')\n",
    "plt.ylabel('Work/Study Hours')\n",
    "plt.show()"
   ]
  },
  {
   "cell_type": "markdown",
   "metadata": {},
   "source": [
    "### Jawab insight yang kamu dapatkan dari visualisasi tadi!"
   ]
  },
  {
   "cell_type": "markdown",
   "metadata": {},
   "source": [
    ">## **14. 🔎 `Financial Stress` vs `Depression`**  \n",
    "\n",
    "Apakah tekanan finansial berperan dalam tingkat depresi individu?  \n",
    "\n",
    "#### 🛠 **Apa yang Harus Dilakukan?**  \n",
    "✅ Gunakan **count plot** atau **bar chart** untuk melihat hubungan antara **Financial Stress** dan **Depression**.  \n",
    "✅ Identifikasi apakah individu dengan tingkat stres finansial tinggi lebih cenderung mengalami depresi.  "
   ]
  },
  {
   "cell_type": "code",
   "execution_count": null,
   "metadata": {},
   "outputs": [],
   "source": [
    "### Answer Question 14 Here"
   ]
  },
  {
   "cell_type": "code",
   "execution_count": null,
   "metadata": {},
   "outputs": [],
   "source": [
    "plt.figure(figsize=(8, 5))\n",
    "sns.countplot(x=\"Financial Stress\", hue=\"Depression\", data=df, palette=\"pastel\")\n",
    "plt.xlabel(\"Financial Stress\")\n",
    "plt.ylabel(\"Jumlah Individu\")\n",
    "plt.title(\"Hubungan antara Financial Stress dan Depression\")\n",
    "plt.legend(title=\"Depresi\", labels=[\"Tidak Depresi\", \"Depresi\"])\n",
    "plt.grid(axis=\"y\", linestyle=\"--\", alpha=0.7)\n",
    "plt.show()"
   ]
  },
  {
   "cell_type": "markdown",
   "metadata": {},
   "source": [
    "### Jawab insight yang kamu dapatkan dari visualisasi tadi!"
   ]
  },
  {
   "cell_type": "markdown",
   "metadata": {},
   "source": [
    "Terlihat bahwa semakin tinggi tingkat tekanan finansial seseorang, semakin besar kemungkinan mereka mengalami depresi. Pada tingkat stres finansial yang rendah, jumlah individu yang mengalami depresi lebih kecil dibandingkan dengan yang tidak mengalami depresi. Namun, ketika tingkat stres finansial meningkat, jumlah individu yang mengalami depresi meningkat secara signifikan. Sehingga, individu dengan tingkat stres finansial tinggi memang lebih cenderung mengalami depresi dibandingkan individu dengan stres finansial yang lebih rendah."
   ]
  },
  {
   "cell_type": "markdown",
   "metadata": {},
   "source": [
    "> ## **15. 🔎 Analisis Nilai yang Hilang (Missing Values)**  \n",
    "\n",
    "Sebelum melanjutkan analisis lebih dalam, penting untuk memahami **data yang hilang** dan penyebabnya.  \n",
    "\n",
    "### 🛠 **Apa yang Harus Dilakukan?**  \n",
    "✅ Periksa **jumlah nilai yang hilang** pada kolom berikut:  \n",
    "   - **Academic Pressure**  \n",
    "   - **Work Pressure**  \n",
    "   - **Study Satisfaction**  \n",
    "   - **Job Satisfaction**  \n",
    "   - **CGPA**  \n",
    "✅ Analisis **mengapa** kolom-kolom ini memiliki banyak nilai kosong.  \n",
    "✅ Diskusikan **kemungkinan penyebabnya** (misalnya, tidak semua peserta memiliki pekerjaan atau sedang menempuh pendidikan).  \n",
    "✅ Pertimbangkan **strategi penanganan** yang tepat:  \n",
    "   - Menghapus data yang hilang?  \n",
    "   - Mengisi nilai kosong dengan rata-rata/median/modus?  \n",
    "   - Menggunakan pendekatan lain seperti imputasi atau model prediktif?  "
   ]
  },
  {
   "cell_type": "code",
   "execution_count": null,
   "metadata": {},
   "outputs": [],
   "source": [
    "### Answer Question 15 Here"
   ]
  },
  {
   "cell_type": "markdown",
   "metadata": {},
   "source": [
    "Untuk kolom Academic Pressure, Study Satisfaction, dan CGPA, beberapa kemungkinan yang dapat terjadi adalah adanya sejumlah responden yang belum selesai studi sehingga tidak dapat memberikan jawaban, ataupun beberapa peserta yang tidak nyaman dalam memberikan informasi terkait akademik.\n",
    "Strategi penanganan yang bisa dilakukan adalah menghapus atau mengimputasi secara selektif\n",
    "\n",
    "Sedangkan untuk kolom Work Pressure dan Job Satisfaction, kemungkinan beberapa peserta belum memiliki pekerjaan, atau tidak ingin berbagi informasi tentang tekanan atau kepuasan kerja mereka.\n",
    "Strategi penanganan yang dapat dilakukan adalah menggunakan metode modus atau prediksi dengan model regresi"
   ]
  },
  {
   "cell_type": "markdown",
   "metadata": {},
   "source": [
    "### Jawab insight yang kamu dapatkan dari visualisasi tadi!"
   ]
  },
  {
   "cell_type": "markdown",
   "metadata": {},
   "source": [
    ">### 🔍 **Eksplorasi Lebih Lanjut pada Dataset!** \n",
    "- **Jangan hanya terpaku pada instruksi / soal sebelumnya!** Coba cari pola lain dalam dataset!  \n",
    "- Adakah hubungan menarik antara variabel lain yang belum dianalisis?  \n",
    "- **Jika ada tambahan / Improvisasi akan lebih bagus juga! 😋☝️**"
   ]
  },
  {
   "cell_type": "code",
   "execution_count": null,
   "metadata": {},
   "outputs": [],
   "source": [
    "### Lanjutin aja guys, makin banyak makin bagus hehehe~"
   ]
  },
  {
   "cell_type": "markdown",
   "metadata": {},
   "source": [
    "## **16. 🏁 Kesimpulan dari EDA**  \n",
    "\n",
    "Setelah melakukan eksplorasi data secara menyeluruh, saatnya merangkum **temuan utama** dari analisis yang telah dilakukan.  \n",
    "\n",
    "### 🔍 **Ringkasan Temuan**  \n",
    "📌 **Apa pola menarik yang ditemukan dalam dataset ini?**  \n",
    "📌 **Faktor-faktor apa yang paling berpengaruh terhadap kesehatan mental?**  \n",
    "\n",
    "### 🛠 **Apa yang Harus Dilakukan?**  \n",
    "✅ Rangkum hasil dari **visualisasi dan analisis statistik** yang telah dilakukan.  \n",
    "✅ Identifikasi variabel yang memiliki **hubungan kuat** dengan tingkat depresi.  \n",
    "✅ Simpulkan **temuan utama** secara sistematis untuk memberikan gambaran yang jelas tentang dataset ini.  \n"
   ]
  },
  {
   "cell_type": "markdown",
   "metadata": {},
   "source": [
    "Hasil analisis menunjukkan bahwa usia dan tekanan akademik memiliki hubungan kuat dengan tingkat depresi. Usia berkorelasi negatif, artinya semakin tua seseorang, semakin rendah risiko depresinya. Sebaliknya, tekanan akademik memiliki korelasi positif tertinggi, menunjukkan bahwa beban akademik yang tinggi meningkatkan risiko depresi. Faktor lain seperti tekanan finansial dan pekerjaan juga berkontribusi, meskipun pengaruhnya lebih kecil.  \n",
    "\n",
    "Selain itu, distribusi data menunjukkan ketidakseimbangan, di mana individu tanpa depresi jauh lebih banyak. Missing values juga ditemukan pada variabel terkait kepuasan belajar, tekanan kerja, dan IPK, yang perlu ditangani untuk analisis lebih akurat. Oleh karena itu, penelitian lanjutan perlu mempertimbangkan keseimbangan data dan penanganan nilai yang hilang guna menghasilkan temuan yang lebih valid."
   ]
  }
 ],
 "metadata": {
  "kernelspec": {
   "display_name": "py310",
   "language": "python",
   "name": "python3"
  },
  "language_info": {
   "codemirror_mode": {
    "name": "ipython",
    "version": 3
   },
   "file_extension": ".py",
   "mimetype": "text/x-python",
   "name": "python",
   "nbconvert_exporter": "python",
   "pygments_lexer": "ipython3",
   "version": "3.10.15"
  }
 },
 "nbformat": 4,
 "nbformat_minor": 2
}
